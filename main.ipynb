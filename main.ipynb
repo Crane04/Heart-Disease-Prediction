{
 "cells": [
  {
   "cell_type": "markdown",
   "id": "4802b1d1",
   "metadata": {},
   "source": [
    "## Background Knowledge\n",
    "**Heart Disease, aka Cardiovascular Disease are a group of conditions that affects the Heart and Blood vessels. The conditions can be Coronary artery Disease, heart failure etc.**\n",
    "\n",
    "**The Coronary artery Disease is the most common type of Heart disease and its caused by the build up of plaques in the arteries that supply blood to the heart. This kind of discomfort is known as Angina and can result to Heart Attack if the flow of Blood to the Heart is blocked completely.**\n",
    "\n",
    "**Generally, heart failure happens when the heart is unable to pump blood effectively throughout the body, which can lead to symptoms like Shortness of Breath, Fatigue, swelling in the leg or ankles.**\n",
    "\n",
    "**The risk factors of Heart Disease include High Blood Pressure, High Cholesterol, Smoking, Diabetes, Obesity, sedentary lifestyle and Family history of Heart Disease.**\n",
    "\n",
    "**Preventive and management measures of heart Disease are Healthy Diet, Regular Exercise, weight and stress management as well as medications and medical procedures.**"
   ]
  },
  {
   "cell_type": "markdown",
   "id": "4de2b0b4",
   "metadata": {},
   "source": [
    "## Import Dependencies"
   ]
  },
  {
   "cell_type": "code",
   "execution_count": 1,
   "id": "80259472",
   "metadata": {},
   "outputs": [],
   "source": [
    "import pandas as pd\n",
    "import numpy as np\n",
    "import seaborn as sns\n",
    "from matplotlib import pyplot as pt\n",
    "from sklearn.preprocessing import LabelEncoder, StandardScaler\n",
    "from sklearn.model_selection import cross_val_score, GridSearchCV\n",
    "from sklearn.metrics import *\n",
    "from sklearn.linear_model import LogisticRegression\n",
    "from sklearn.tree import DecisionTreeClassifier\n",
    "from sklearn.ensemble import RandomForestClassifier\n",
    "from sklearn.svm import SVC"
   ]
  },
  {
   "cell_type": "code",
   "execution_count": 2,
   "id": "7886bdc2",
   "metadata": {},
   "outputs": [
    {
     "data": {
      "text/html": [
       "<div>\n",
       "<style scoped>\n",
       "    .dataframe tbody tr th:only-of-type {\n",
       "        vertical-align: middle;\n",
       "    }\n",
       "\n",
       "    .dataframe tbody tr th {\n",
       "        vertical-align: top;\n",
       "    }\n",
       "\n",
       "    .dataframe thead th {\n",
       "        text-align: right;\n",
       "    }\n",
       "</style>\n",
       "<table border=\"1\" class=\"dataframe\">\n",
       "  <thead>\n",
       "    <tr style=\"text-align: right;\">\n",
       "      <th></th>\n",
       "      <th>age</th>\n",
       "      <th>sex</th>\n",
       "      <th>chestpain</th>\n",
       "      <th>restbps</th>\n",
       "      <th>chol</th>\n",
       "      <th>fbs</th>\n",
       "      <th>restecg</th>\n",
       "      <th>thalach</th>\n",
       "      <th>exang</th>\n",
       "      <th>oldpeak</th>\n",
       "      <th>slope</th>\n",
       "      <th>v_colored</th>\n",
       "      <th>thal</th>\n",
       "      <th>health</th>\n",
       "      <th>X</th>\n",
       "    </tr>\n",
       "  </thead>\n",
       "  <tbody>\n",
       "    <tr>\n",
       "      <th>0</th>\n",
       "      <td>63.0</td>\n",
       "      <td>male</td>\n",
       "      <td>angina</td>\n",
       "      <td>145.0</td>\n",
       "      <td>233.0</td>\n",
       "      <td>true</td>\n",
       "      <td>hyp</td>\n",
       "      <td>150.0</td>\n",
       "      <td>fal</td>\n",
       "      <td>2.3</td>\n",
       "      <td>down</td>\n",
       "      <td>0.0</td>\n",
       "      <td>fix</td>\n",
       "      <td>buff</td>\n",
       "      <td>H</td>\n",
       "    </tr>\n",
       "    <tr>\n",
       "      <th>1</th>\n",
       "      <td>67.0</td>\n",
       "      <td>male</td>\n",
       "      <td>asympt</td>\n",
       "      <td>160.0</td>\n",
       "      <td>286.0</td>\n",
       "      <td>fal</td>\n",
       "      <td>hyp</td>\n",
       "      <td>108.0</td>\n",
       "      <td>true</td>\n",
       "      <td>1.5</td>\n",
       "      <td>flat</td>\n",
       "      <td>3.0</td>\n",
       "      <td>norm</td>\n",
       "      <td>sick</td>\n",
       "      <td>S2</td>\n",
       "    </tr>\n",
       "    <tr>\n",
       "      <th>2</th>\n",
       "      <td>67.0</td>\n",
       "      <td>male</td>\n",
       "      <td>asympt</td>\n",
       "      <td>120.0</td>\n",
       "      <td>229.0</td>\n",
       "      <td>fal</td>\n",
       "      <td>hyp</td>\n",
       "      <td>129.0</td>\n",
       "      <td>true</td>\n",
       "      <td>2.6</td>\n",
       "      <td>flat</td>\n",
       "      <td>2.0</td>\n",
       "      <td>rev</td>\n",
       "      <td>sick</td>\n",
       "      <td>S1</td>\n",
       "    </tr>\n",
       "    <tr>\n",
       "      <th>3</th>\n",
       "      <td>37.0</td>\n",
       "      <td>male</td>\n",
       "      <td>notang</td>\n",
       "      <td>130.0</td>\n",
       "      <td>250.0</td>\n",
       "      <td>fal</td>\n",
       "      <td>norm</td>\n",
       "      <td>187.0</td>\n",
       "      <td>fal</td>\n",
       "      <td>3.5</td>\n",
       "      <td>down</td>\n",
       "      <td>0.0</td>\n",
       "      <td>norm</td>\n",
       "      <td>buff</td>\n",
       "      <td>H</td>\n",
       "    </tr>\n",
       "    <tr>\n",
       "      <th>4</th>\n",
       "      <td>41.0</td>\n",
       "      <td>fem</td>\n",
       "      <td>abnang</td>\n",
       "      <td>130.0</td>\n",
       "      <td>204.0</td>\n",
       "      <td>fal</td>\n",
       "      <td>hyp</td>\n",
       "      <td>172.0</td>\n",
       "      <td>fal</td>\n",
       "      <td>1.4</td>\n",
       "      <td>up</td>\n",
       "      <td>0.0</td>\n",
       "      <td>norm</td>\n",
       "      <td>buff</td>\n",
       "      <td>H</td>\n",
       "    </tr>\n",
       "  </tbody>\n",
       "</table>\n",
       "</div>"
      ],
      "text/plain": [
       "    age   sex chestpain  restbps   chol   fbs restecg  thalach exang  oldpeak  \\\n",
       "0  63.0  male    angina    145.0  233.0  true     hyp    150.0   fal      2.3   \n",
       "1  67.0  male    asympt    160.0  286.0   fal     hyp    108.0  true      1.5   \n",
       "2  67.0  male    asympt    120.0  229.0   fal     hyp    129.0  true      2.6   \n",
       "3  37.0  male    notang    130.0  250.0   fal    norm    187.0   fal      3.5   \n",
       "4  41.0   fem    abnang    130.0  204.0   fal     hyp    172.0   fal      1.4   \n",
       "\n",
       "  slope v_colored  thal health   X  \n",
       "0  down       0.0   fix   buff   H  \n",
       "1  flat       3.0  norm   sick  S2  \n",
       "2  flat       2.0   rev   sick  S1  \n",
       "3  down       0.0  norm   buff   H  \n",
       "4    up       0.0  norm   buff   H  "
      ]
     },
     "execution_count": 2,
     "metadata": {},
     "output_type": "execute_result"
    }
   ],
   "source": [
    "# Load Data\n",
    "names = [\"age\", \"sex\", \"chestpain\", \"restbps\", \"chol\", \"fbs\",\n",
    "         \"restecg\", \"thalach\", \"exang\", \"oldpeak\", \"slope\",\n",
    "        \"v_colored\",\"thal\", \"health\", \"X\"]\n",
    "heart_df = pd.read_csv(\"heart-disease.csv\", names = names)\n",
    "heart_df.head()"
   ]
  },
  {
   "cell_type": "markdown",
   "id": "8be3cfab",
   "metadata": {},
   "source": [
    "### Attributes Explanation\n",
    "1. age: Age of Patient in years\n",
    "2. sex: Male or Female field\n",
    "3. chestpain: Chest Pain Type in full; values could be Typical angina (angina), atypical angina (abnang), non-anginal pain (notang) and asymptomatic (asympt)\n",
    "    - Chest pain is a symptom that can be caused by wide range of conditions from Benign causes like Muscle Strain to serious Medical emergencies like **HEART ATTACK**. This pain may feel like Pressure, squeezing, burning or aching in the Chest or upper abdomen.\n",
    "4. restbps: Resting Blood Pressure in mmHg\n",
    "    - Resting Blood Pressure is the measurement of Blood Pressure when a person is at Rest; usually while sitting or lying down. A normal Resting Blood Pressure is generally considered to be less than 120/80 mmHg\n",
    "5. chol: Serun Cholestoral in mg/dl\n",
    "    - Cholesterol is a Waxy substance that is found in the blood and is an essential componenent of the Cell membranes.\n",
    "6. fbs: Fasting Blood Sugar > 120mg/dl\n",
    "    - This is the level of Glucose in the Body after an Overnight fast of atleast 8 hours.\n",
    "7. restecg: Resting Electrocardiographic results; values could be Normal(norm),Abnormal (abn) and Hypertrophy (hyp)\n",
    "    - This is a non-invasive test that measures the electrical activity of the heart while the patient is at rest.\n",
    "8. thalach: Maximum heart rate achieved\n",
    "    - It is the highest heart rate a person can achieve during exercise. It is typically calculated as 220 minus the person's age, but can vart based on Factors like Fitness level, meducation etc. This factor doesn't affect the chances of someone having heart disease; but is an important measure of Cardiovascular fitness; Hence, won't be used for making predictions\n",
    "9. exang: This is exercise induced angina; value could be True (true) or False(fal)\n",
    "    - aka Stable Angina is a type of chestpain that occurs during physical activities.\n",
    "10. oldpeak: This is depression induced by exercise relative to rest\n",
    "    - aka ST depression is a special feature observed on an Electrocardiogram that reflects a certain type of abnormality in the heart's electrical activity.\n",
    "11. slope: The slope peak exercise ST segment; values could be upsloping (up), flat (flat) and downsloping (down).\n",
    "    - This is the slope of the ST segment on an ECG.\n",
    "12. v_colored: Number of vessels (0-3) colored by fluorosopy\n",
    "13. thal\n",
    "14. health: Buff means healthy and Sick means unhealthy."
   ]
  },
  {
   "cell_type": "markdown",
   "id": "a702a7c9",
   "metadata": {},
   "source": [
    "## Exploratory Data Analysis"
   ]
  },
  {
   "cell_type": "code",
   "execution_count": 3,
   "id": "520d2ce0",
   "metadata": {},
   "outputs": [
    {
     "name": "stdout",
     "output_type": "stream",
     "text": [
      "Shape of DataFrame (303, 15)\n"
     ]
    }
   ],
   "source": [
    "# Get shape of Dataset\n",
    "\n",
    "print(\"Shape of DataFrame\", heart_df.shape)"
   ]
  },
  {
   "cell_type": "code",
   "execution_count": 4,
   "id": "0ff50f62",
   "metadata": {},
   "outputs": [
    {
     "name": "stdout",
     "output_type": "stream",
     "text": [
      "<class 'pandas.core.frame.DataFrame'>\n",
      "RangeIndex: 303 entries, 0 to 302\n",
      "Data columns (total 15 columns):\n",
      " #   Column     Non-Null Count  Dtype  \n",
      "---  ------     --------------  -----  \n",
      " 0   age        303 non-null    float64\n",
      " 1   sex        303 non-null    object \n",
      " 2   chestpain  303 non-null    object \n",
      " 3   restbps    303 non-null    float64\n",
      " 4   chol       303 non-null    float64\n",
      " 5   fbs        303 non-null    object \n",
      " 6   restecg    303 non-null    object \n",
      " 7   thalach    303 non-null    float64\n",
      " 8   exang      303 non-null    object \n",
      " 9   oldpeak    303 non-null    float64\n",
      " 10  slope      303 non-null    object \n",
      " 11  v_colored  298 non-null    object \n",
      " 12  thal       301 non-null    object \n",
      " 13  health     303 non-null    object \n",
      " 14  X          303 non-null    object \n",
      "dtypes: float64(5), object(10)\n",
      "memory usage: 35.6+ KB\n"
     ]
    }
   ],
   "source": [
    "heart_df = heart_df.replace(\"?\", np.nan)\n",
    "\n",
    "# See informations about Non-null and Data-types of heart_df\n",
    "heart_df.info()"
   ]
  },
  {
   "cell_type": "code",
   "execution_count": 5,
   "id": "59b6bc05",
   "metadata": {},
   "outputs": [],
   "source": [
    "## Change v_colored to a numeric field\n",
    "heart_df[\"v_colored\"] = pd.to_numeric(heart_df[\"v_colored\"])"
   ]
  },
  {
   "cell_type": "code",
   "execution_count": 6,
   "id": "87f30ce6",
   "metadata": {},
   "outputs": [
    {
     "data": {
      "text/plain": [
       "age          0\n",
       "sex          0\n",
       "chestpain    0\n",
       "restbps      0\n",
       "chol         0\n",
       "fbs          0\n",
       "restecg      0\n",
       "thalach      0\n",
       "exang        0\n",
       "oldpeak      0\n",
       "slope        0\n",
       "v_colored    5\n",
       "thal         2\n",
       "health       0\n",
       "X            0\n",
       "dtype: int64"
      ]
     },
     "execution_count": 6,
     "metadata": {},
     "output_type": "execute_result"
    }
   ],
   "source": [
    "# See informations about Null values\n",
    "\n",
    "heart_df.isnull().sum()"
   ]
  },
  {
   "cell_type": "code",
   "execution_count": 7,
   "id": "ddab9857",
   "metadata": {},
   "outputs": [
    {
     "name": "stdout",
     "output_type": "stream",
     "text": [
      "No null values and all dtypes are in place\n"
     ]
    }
   ],
   "source": [
    "# Drop null values\n",
    "heart_df.dropna(inplace = True)\n",
    "print(\"No null values and all dtypes are in place\")"
   ]
  },
  {
   "cell_type": "markdown",
   "id": "9ca62168",
   "metadata": {},
   "source": [
    "## Descriptive Analysis"
   ]
  },
  {
   "cell_type": "code",
   "execution_count": 8,
   "id": "592f2f61",
   "metadata": {},
   "outputs": [
    {
     "name": "stdout",
     "output_type": "stream",
     "text": [
      "Descriptive Stats\n"
     ]
    },
    {
     "data": {
      "text/html": [
       "<div>\n",
       "<style scoped>\n",
       "    .dataframe tbody tr th:only-of-type {\n",
       "        vertical-align: middle;\n",
       "    }\n",
       "\n",
       "    .dataframe tbody tr th {\n",
       "        vertical-align: top;\n",
       "    }\n",
       "\n",
       "    .dataframe thead th {\n",
       "        text-align: right;\n",
       "    }\n",
       "</style>\n",
       "<table border=\"1\" class=\"dataframe\">\n",
       "  <thead>\n",
       "    <tr style=\"text-align: right;\">\n",
       "      <th></th>\n",
       "      <th>age</th>\n",
       "      <th>restbps</th>\n",
       "      <th>chol</th>\n",
       "      <th>thalach</th>\n",
       "      <th>oldpeak</th>\n",
       "      <th>v_colored</th>\n",
       "    </tr>\n",
       "  </thead>\n",
       "  <tbody>\n",
       "    <tr>\n",
       "      <th>count</th>\n",
       "      <td>296.000000</td>\n",
       "      <td>296.00000</td>\n",
       "      <td>296.000000</td>\n",
       "      <td>296.000000</td>\n",
       "      <td>296.000000</td>\n",
       "      <td>296.000000</td>\n",
       "    </tr>\n",
       "    <tr>\n",
       "      <th>mean</th>\n",
       "      <td>54.523649</td>\n",
       "      <td>131.60473</td>\n",
       "      <td>247.155405</td>\n",
       "      <td>149.560811</td>\n",
       "      <td>1.059122</td>\n",
       "      <td>0.679054</td>\n",
       "    </tr>\n",
       "    <tr>\n",
       "      <th>std</th>\n",
       "      <td>9.059471</td>\n",
       "      <td>17.72662</td>\n",
       "      <td>51.977011</td>\n",
       "      <td>22.970792</td>\n",
       "      <td>1.166474</td>\n",
       "      <td>0.939726</td>\n",
       "    </tr>\n",
       "    <tr>\n",
       "      <th>min</th>\n",
       "      <td>29.000000</td>\n",
       "      <td>94.00000</td>\n",
       "      <td>126.000000</td>\n",
       "      <td>71.000000</td>\n",
       "      <td>0.000000</td>\n",
       "      <td>0.000000</td>\n",
       "    </tr>\n",
       "    <tr>\n",
       "      <th>25%</th>\n",
       "      <td>48.000000</td>\n",
       "      <td>120.00000</td>\n",
       "      <td>211.000000</td>\n",
       "      <td>133.000000</td>\n",
       "      <td>0.000000</td>\n",
       "      <td>0.000000</td>\n",
       "    </tr>\n",
       "    <tr>\n",
       "      <th>50%</th>\n",
       "      <td>56.000000</td>\n",
       "      <td>130.00000</td>\n",
       "      <td>242.500000</td>\n",
       "      <td>152.500000</td>\n",
       "      <td>0.800000</td>\n",
       "      <td>0.000000</td>\n",
       "    </tr>\n",
       "    <tr>\n",
       "      <th>75%</th>\n",
       "      <td>61.000000</td>\n",
       "      <td>140.00000</td>\n",
       "      <td>275.250000</td>\n",
       "      <td>166.000000</td>\n",
       "      <td>1.650000</td>\n",
       "      <td>1.000000</td>\n",
       "    </tr>\n",
       "    <tr>\n",
       "      <th>max</th>\n",
       "      <td>77.000000</td>\n",
       "      <td>200.00000</td>\n",
       "      <td>564.000000</td>\n",
       "      <td>202.000000</td>\n",
       "      <td>6.200000</td>\n",
       "      <td>3.000000</td>\n",
       "    </tr>\n",
       "  </tbody>\n",
       "</table>\n",
       "</div>"
      ],
      "text/plain": [
       "              age    restbps        chol     thalach     oldpeak   v_colored\n",
       "count  296.000000  296.00000  296.000000  296.000000  296.000000  296.000000\n",
       "mean    54.523649  131.60473  247.155405  149.560811    1.059122    0.679054\n",
       "std      9.059471   17.72662   51.977011   22.970792    1.166474    0.939726\n",
       "min     29.000000   94.00000  126.000000   71.000000    0.000000    0.000000\n",
       "25%     48.000000  120.00000  211.000000  133.000000    0.000000    0.000000\n",
       "50%     56.000000  130.00000  242.500000  152.500000    0.800000    0.000000\n",
       "75%     61.000000  140.00000  275.250000  166.000000    1.650000    1.000000\n",
       "max     77.000000  200.00000  564.000000  202.000000    6.200000    3.000000"
      ]
     },
     "execution_count": 8,
     "metadata": {},
     "output_type": "execute_result"
    }
   ],
   "source": [
    "print(\"Descriptive Stats\")\n",
    "heart_df.describe()"
   ]
  },
  {
   "cell_type": "markdown",
   "id": "97fb1480",
   "metadata": {},
   "source": [
    "## Visualization"
   ]
  },
  {
   "cell_type": "code",
   "execution_count": 9,
   "id": "a1de41e1",
   "metadata": {},
   "outputs": [
    {
     "data": {
      "text/plain": [
       "<AxesSubplot:xlabel='health', ylabel='count'>"
      ]
     },
     "execution_count": 9,
     "metadata": {},
     "output_type": "execute_result"
    },
    {
     "data": {
      "image/png": "[encoded data removed]",
      "text/plain": [
       "<Figure size 640x480 with 1 Axes>"
      ]
     },
     "metadata": {},
     "output_type": "display_data"
    }
   ],
   "source": [
    "## See Health Distribution\n",
    "sns.countplot(x = heart_df[\"health\"])"
   ]
  },
  {
   "cell_type": "code",
   "execution_count": 10,
   "id": "6252a600",
   "metadata": {},
   "outputs": [
    {
     "data": {
      "image/png": "[encoded data removed]",
      "text/plain": [
       "<Figure size 1500x1700 with 7 Axes>"
      ]
     },
     "metadata": {},
     "output_type": "display_data"
    }
   ],
   "source": [
    "## See Distribution of Categorical data's with respect to health\n",
    "categories = [\"sex\", \"chestpain\", \"fbs\", \"restecg\", \"exang\",\"slope\", \"thal\"]\n",
    "pt.figure(figsize = (15,17))\n",
    "for category in enumerate(categories):\n",
    "    pt.subplot(4,3, category[0] + 1)\n",
    "    sns.countplot(x = category[1], hue = \"health\", data = heart_df)\n",
    "    "
   ]
  },
  {
   "cell_type": "markdown",
   "id": "79ba3d91",
   "metadata": {},
   "source": [
    "### Observations\n",
    "1. The Males are more prone to Heart attack than the females\n",
    "2. Patients with asympt (asymptomatic) chestpain are more prone to Heart attack and patients with abnang (atypical angina) are less likely to have this attack.\n",
    "3. The abn (abnormal) Resting Electrocardiographic results is rare to find in Patients...\n",
    "4. Patients with Normal thal are mostly safe from Heart arracks\n"
   ]
  },
  {
   "cell_type": "markdown",
   "id": "a8af6fa2",
   "metadata": {},
   "source": [
    "## Age Distribution with respect to health\n",
    "First, create a new column; convert the ages into ranges (0-10), (11-20), (21-30) and so on..."
   ]
  },
  {
   "cell_type": "code",
   "execution_count": 11,
   "id": "0d155d2e",
   "metadata": {},
   "outputs": [],
   "source": [
    "bin_ranges = [25, 30,35, 40,45, 50,55, 60,65, 70,75, 80]\n",
    "heart_df[\"Age range\"] = pd.cut(np.array(heart_df[\"age\"]), bins = bin_ranges)"
   ]
  },
  {
   "cell_type": "code",
   "execution_count": 12,
   "id": "199aaf46",
   "metadata": {},
   "outputs": [
    {
     "data": {
      "text/plain": [
       "<AxesSubplot:xlabel='Age range', ylabel='count'>"
      ]
     },
     "execution_count": 12,
     "metadata": {},
     "output_type": "execute_result"
    },
    {
     "data": {
      "image/png": "[encoded data removed]",
      "text/plain": [
       "<Figure size 1500x700 with 1 Axes>"
      ]
     },
     "metadata": {},
     "output_type": "display_data"
    }
   ],
   "source": [
    "pt.figure(figsize=(15,7))\n",
    "sns.countplot(x = \"Age range\", hue=\"health\", data = heart_df)"
   ]
  },
  {
   "cell_type": "markdown",
   "id": "e5adc24c",
   "metadata": {},
   "source": [
    "### Observation\n",
    "1. Average individuals from age 25-40 have higher chances of being affected by heart problems.\n",
    "2. Old patients from 55 downwards have higher chances of getting heart attacks..."
   ]
  },
  {
   "cell_type": "code",
   "execution_count": 13,
   "id": "65ec1634",
   "metadata": {},
   "outputs": [
    {
     "data": {
      "text/plain": [
       "<AxesSubplot:>"
      ]
     },
     "execution_count": 13,
     "metadata": {},
     "output_type": "execute_result"
    },
    {
     "data": {
      "image/png": "[encoded data removed]",
      "text/plain": [
       "<Figure size 700x700 with 2 Axes>"
      ]
     },
     "metadata": {},
     "output_type": "display_data"
    }
   ],
   "source": [
    "pt.figure(figsize = (7,7))\n",
    "sns.heatmap(heart_df.corr(), annot = True, cmap=\"Blues\", square=True)"
   ]
  },
  {
   "cell_type": "markdown",
   "id": "ec04b857",
   "metadata": {},
   "source": [
    "Most attributes have weak or no correlations with each other\n",
    "- v_colored and age have the highest positive correlation (.36) while thalach and v_colored have the highest negative corrlation (-.35)"
   ]
  },
  {
   "cell_type": "code",
   "execution_count": 14,
   "id": "a5e227d7",
   "metadata": {},
   "outputs": [],
   "source": [
    "# Categorical Data - categories\n",
    "## Converting all Categorical Data to numeric using Label Encoder\n",
    "categories.append(\"health\")\n",
    "save_categories_code = []\n",
    "def map_category():\n",
    "    for category in categories:\n",
    "        encoder = LabelEncoder()\n",
    "        name = encoder.fit_transform(heart_df[category])\n",
    "        name_mapping ={index: label for index, label in enumerate(encoder.classes_)}\n",
    "        save_categories_code.append(name_mapping)\n",
    "        heart_df[category] = name\n",
    "map_category()"
   ]
  },
  {
   "cell_type": "code",
   "execution_count": 15,
   "id": "83d4e429",
   "metadata": {},
   "outputs": [
    {
     "data": {
      "text/html": [
       "<div>\n",
       "<style scoped>\n",
       "    .dataframe tbody tr th:only-of-type {\n",
       "        vertical-align: middle;\n",
       "    }\n",
       "\n",
       "    .dataframe tbody tr th {\n",
       "        vertical-align: top;\n",
       "    }\n",
       "\n",
       "    .dataframe thead th {\n",
       "        text-align: right;\n",
       "    }\n",
       "</style>\n",
       "<table border=\"1\" class=\"dataframe\">\n",
       "  <thead>\n",
       "    <tr style=\"text-align: right;\">\n",
       "      <th></th>\n",
       "      <th>age</th>\n",
       "      <th>sex</th>\n",
       "      <th>chestpain</th>\n",
       "      <th>restbps</th>\n",
       "      <th>chol</th>\n",
       "      <th>fbs</th>\n",
       "      <th>restecg</th>\n",
       "      <th>thalach</th>\n",
       "      <th>exang</th>\n",
       "      <th>oldpeak</th>\n",
       "      <th>slope</th>\n",
       "      <th>v_colored</th>\n",
       "      <th>thal</th>\n",
       "      <th>health</th>\n",
       "      <th>X</th>\n",
       "      <th>Age range</th>\n",
       "    </tr>\n",
       "  </thead>\n",
       "  <tbody>\n",
       "    <tr>\n",
       "      <th>0</th>\n",
       "      <td>63.0</td>\n",
       "      <td>1</td>\n",
       "      <td>1</td>\n",
       "      <td>145.0</td>\n",
       "      <td>233.0</td>\n",
       "      <td>1</td>\n",
       "      <td>1</td>\n",
       "      <td>150.0</td>\n",
       "      <td>0</td>\n",
       "      <td>2.3</td>\n",
       "      <td>0</td>\n",
       "      <td>0.0</td>\n",
       "      <td>0</td>\n",
       "      <td>0</td>\n",
       "      <td>H</td>\n",
       "      <td>(60, 65]</td>\n",
       "    </tr>\n",
       "    <tr>\n",
       "      <th>1</th>\n",
       "      <td>67.0</td>\n",
       "      <td>1</td>\n",
       "      <td>2</td>\n",
       "      <td>160.0</td>\n",
       "      <td>286.0</td>\n",
       "      <td>0</td>\n",
       "      <td>1</td>\n",
       "      <td>108.0</td>\n",
       "      <td>1</td>\n",
       "      <td>1.5</td>\n",
       "      <td>1</td>\n",
       "      <td>3.0</td>\n",
       "      <td>1</td>\n",
       "      <td>1</td>\n",
       "      <td>S2</td>\n",
       "      <td>(65, 70]</td>\n",
       "    </tr>\n",
       "    <tr>\n",
       "      <th>2</th>\n",
       "      <td>67.0</td>\n",
       "      <td>1</td>\n",
       "      <td>2</td>\n",
       "      <td>120.0</td>\n",
       "      <td>229.0</td>\n",
       "      <td>0</td>\n",
       "      <td>1</td>\n",
       "      <td>129.0</td>\n",
       "      <td>1</td>\n",
       "      <td>2.6</td>\n",
       "      <td>1</td>\n",
       "      <td>2.0</td>\n",
       "      <td>2</td>\n",
       "      <td>1</td>\n",
       "      <td>S1</td>\n",
       "      <td>(65, 70]</td>\n",
       "    </tr>\n",
       "    <tr>\n",
       "      <th>3</th>\n",
       "      <td>37.0</td>\n",
       "      <td>1</td>\n",
       "      <td>3</td>\n",
       "      <td>130.0</td>\n",
       "      <td>250.0</td>\n",
       "      <td>0</td>\n",
       "      <td>2</td>\n",
       "      <td>187.0</td>\n",
       "      <td>0</td>\n",
       "      <td>3.5</td>\n",
       "      <td>0</td>\n",
       "      <td>0.0</td>\n",
       "      <td>1</td>\n",
       "      <td>0</td>\n",
       "      <td>H</td>\n",
       "      <td>(35, 40]</td>\n",
       "    </tr>\n",
       "    <tr>\n",
       "      <th>4</th>\n",
       "      <td>41.0</td>\n",
       "      <td>0</td>\n",
       "      <td>0</td>\n",
       "      <td>130.0</td>\n",
       "      <td>204.0</td>\n",
       "      <td>0</td>\n",
       "      <td>1</td>\n",
       "      <td>172.0</td>\n",
       "      <td>0</td>\n",
       "      <td>1.4</td>\n",
       "      <td>2</td>\n",
       "      <td>0.0</td>\n",
       "      <td>1</td>\n",
       "      <td>0</td>\n",
       "      <td>H</td>\n",
       "      <td>(40, 45]</td>\n",
       "    </tr>\n",
       "  </tbody>\n",
       "</table>\n",
       "</div>"
      ],
      "text/plain": [
       "    age  sex  chestpain  restbps   chol  fbs  restecg  thalach  exang  \\\n",
       "0  63.0    1          1    145.0  233.0    1        1    150.0      0   \n",
       "1  67.0    1          2    160.0  286.0    0        1    108.0      1   \n",
       "2  67.0    1          2    120.0  229.0    0        1    129.0      1   \n",
       "3  37.0    1          3    130.0  250.0    0        2    187.0      0   \n",
       "4  41.0    0          0    130.0  204.0    0        1    172.0      0   \n",
       "\n",
       "   oldpeak  slope  v_colored  thal  health   X Age range  \n",
       "0      2.3      0        0.0     0       0   H  (60, 65]  \n",
       "1      1.5      1        3.0     1       1  S2  (65, 70]  \n",
       "2      2.6      1        2.0     2       1  S1  (65, 70]  \n",
       "3      3.5      0        0.0     1       0   H  (35, 40]  \n",
       "4      1.4      2        0.0     1       0   H  (40, 45]  "
      ]
     },
     "execution_count": 15,
     "metadata": {},
     "output_type": "execute_result"
    }
   ],
   "source": [
    "heart_df.head()"
   ]
  },
  {
   "cell_type": "code",
   "execution_count": 16,
   "id": "a8a3cc3c",
   "metadata": {},
   "outputs": [
    {
     "data": {
      "text/plain": [
       "[{0: 'fem', 1: 'male'},\n",
       " {0: 'abnang', 1: 'angina', 2: 'asympt', 3: 'notang'},\n",
       " {0: 'fal', 1: 'true'},\n",
       " {0: 'abn', 1: 'hyp', 2: 'norm'},\n",
       " {0: 'fal', 1: 'true'},\n",
       " {0: 'down', 1: 'flat', 2: 'up'},\n",
       " {0: 'fix', 1: 'norm', 2: 'rev'},\n",
       " {0: 'buff', 1: 'sick'}]"
      ]
     },
     "execution_count": 16,
     "metadata": {},
     "output_type": "execute_result"
    }
   ],
   "source": [
    "save_categories_code"
   ]
  },
  {
   "cell_type": "markdown",
   "id": "e2a97b9f",
   "metadata": {},
   "source": [
    "**Keys of Categorical Data**"
   ]
  },
  {
   "cell_type": "code",
   "execution_count": 17,
   "id": "e70d66ff",
   "metadata": {},
   "outputs": [
    {
     "name": "stdout",
     "output_type": "stream",
     "text": [
      "('sex', {0: 'fem', 1: 'male'}) \n",
      "\n",
      "('chestpain', {0: 'abnang', 1: 'angina', 2: 'asympt', 3: 'notang'}) \n",
      "\n",
      "('fbs', {0: 'fal', 1: 'true'}) \n",
      "\n",
      "('restecg', {0: 'abn', 1: 'hyp', 2: 'norm'}) \n",
      "\n",
      "('exang', {0: 'fal', 1: 'true'}) \n",
      "\n",
      "('slope', {0: 'down', 1: 'flat', 2: 'up'}) \n",
      "\n",
      "('thal', {0: 'fix', 1: 'norm', 2: 'rev'}) \n",
      "\n",
      "('health', {0: 'buff', 1: 'sick'}) \n",
      "\n"
     ]
    }
   ],
   "source": [
    "for i in list(zip(categories, save_categories_code)):\n",
    "    print(i, \"\\n\")"
   ]
  },
  {
   "cell_type": "markdown",
   "id": "9a64593c",
   "metadata": {},
   "source": [
    "## Feature Scaling"
   ]
  },
  {
   "cell_type": "markdown",
   "id": "3310aad8",
   "metadata": {},
   "source": [
    "**Using Standard Scaler**"
   ]
  },
  {
   "cell_type": "code",
   "execution_count": 18,
   "id": "6688e9f5",
   "metadata": {},
   "outputs": [],
   "source": [
    "ss = StandardScaler()"
   ]
  },
  {
   "cell_type": "code",
   "execution_count": 19,
   "id": "69107315",
   "metadata": {},
   "outputs": [],
   "source": [
    "columns = [\"age\", \"restbps\", \"chol\", \"thalach\", \"oldpeak\"]\n",
    "def scale(data):\n",
    "    for column in columns:\n",
    "        data[column]  = ss.fit_transform(data[[column]])"
   ]
  },
  {
   "cell_type": "code",
   "execution_count": 20,
   "id": "170dfcf9",
   "metadata": {},
   "outputs": [],
   "source": [
    "# Transform\n",
    "scale(heart_df)"
   ]
  },
  {
   "cell_type": "code",
   "execution_count": 21,
   "id": "1c63e955",
   "metadata": {},
   "outputs": [
    {
     "data": {
      "text/html": [
       "<div>\n",
       "<style scoped>\n",
       "    .dataframe tbody tr th:only-of-type {\n",
       "        vertical-align: middle;\n",
       "    }\n",
       "\n",
       "    .dataframe tbody tr th {\n",
       "        vertical-align: top;\n",
       "    }\n",
       "\n",
       "    .dataframe thead th {\n",
       "        text-align: right;\n",
       "    }\n",
       "</style>\n",
       "<table border=\"1\" class=\"dataframe\">\n",
       "  <thead>\n",
       "    <tr style=\"text-align: right;\">\n",
       "      <th></th>\n",
       "      <th>age</th>\n",
       "      <th>sex</th>\n",
       "      <th>chestpain</th>\n",
       "      <th>restbps</th>\n",
       "      <th>chol</th>\n",
       "      <th>fbs</th>\n",
       "      <th>restecg</th>\n",
       "      <th>thalach</th>\n",
       "      <th>exang</th>\n",
       "      <th>oldpeak</th>\n",
       "      <th>slope</th>\n",
       "      <th>v_colored</th>\n",
       "      <th>thal</th>\n",
       "      <th>health</th>\n",
       "      <th>X</th>\n",
       "      <th>Age range</th>\n",
       "    </tr>\n",
       "  </thead>\n",
       "  <tbody>\n",
       "    <tr>\n",
       "      <th>0</th>\n",
       "      <td>0.937219</td>\n",
       "      <td>1</td>\n",
       "      <td>1</td>\n",
       "      <td>0.756938</td>\n",
       "      <td>-0.272801</td>\n",
       "      <td>1</td>\n",
       "      <td>1</td>\n",
       "      <td>0.019152</td>\n",
       "      <td>0</td>\n",
       "      <td>1.065587</td>\n",
       "      <td>0</td>\n",
       "      <td>0.0</td>\n",
       "      <td>0</td>\n",
       "      <td>0</td>\n",
       "      <td>H</td>\n",
       "      <td>(60, 65]</td>\n",
       "    </tr>\n",
       "    <tr>\n",
       "      <th>1</th>\n",
       "      <td>1.379493</td>\n",
       "      <td>1</td>\n",
       "      <td>2</td>\n",
       "      <td>1.604556</td>\n",
       "      <td>0.748607</td>\n",
       "      <td>0</td>\n",
       "      <td>1</td>\n",
       "      <td>-1.812353</td>\n",
       "      <td>1</td>\n",
       "      <td>0.378598</td>\n",
       "      <td>1</td>\n",
       "      <td>3.0</td>\n",
       "      <td>1</td>\n",
       "      <td>1</td>\n",
       "      <td>S2</td>\n",
       "      <td>(65, 70]</td>\n",
       "    </tr>\n",
       "  </tbody>\n",
       "</table>\n",
       "</div>"
      ],
      "text/plain": [
       "        age  sex  chestpain   restbps      chol  fbs  restecg   thalach  \\\n",
       "0  0.937219    1          1  0.756938 -0.272801    1        1  0.019152   \n",
       "1  1.379493    1          2  1.604556  0.748607    0        1 -1.812353   \n",
       "\n",
       "   exang   oldpeak  slope  v_colored  thal  health   X Age range  \n",
       "0      0  1.065587      0        0.0     0       0   H  (60, 65]  \n",
       "1      1  0.378598      1        3.0     1       1  S2  (65, 70]  "
      ]
     },
     "execution_count": 21,
     "metadata": {},
     "output_type": "execute_result"
    }
   ],
   "source": [
    "heart_df.head(2)"
   ]
  },
  {
   "cell_type": "markdown",
   "id": "314adb51",
   "metadata": {},
   "source": [
    "## Train and Test"
   ]
  },
  {
   "cell_type": "code",
   "execution_count": 22,
   "id": "cdcc92e2",
   "metadata": {},
   "outputs": [],
   "source": [
    "X = heart_df.drop([\"health\", \"X\", \"Age range\", \"thalach\"], axis = 1)\n",
    "y = heart_df.health"
   ]
  },
  {
   "cell_type": "markdown",
   "id": "991ee55d",
   "metadata": {},
   "source": [
    "## Cross Validation - Model Selection"
   ]
  },
  {
   "cell_type": "markdown",
   "id": "58878182",
   "metadata": {},
   "source": [
    "### Initialize Models"
   ]
  },
  {
   "cell_type": "code",
   "execution_count": 23,
   "id": "26c500e8",
   "metadata": {},
   "outputs": [],
   "source": [
    "models = [LogisticRegression(), SVC(kernel=\"linear\"), DecisionTreeClassifier(), RandomForestClassifier()]"
   ]
  },
  {
   "cell_type": "code",
   "execution_count": 24,
   "id": "099d3136",
   "metadata": {},
   "outputs": [
    {
     "name": "stdout",
     "output_type": "stream",
     "text": [
      "Accuracy Scores for LogisticRegression()  =  [0.75       0.86440678 0.76271186 0.77966102 0.77966102]\n",
      "Mean Accuracy Score for LogisticRegression()   =  0.7872881355932204 \n",
      "\n",
      "Accuracy Scores for SVC(kernel='linear')  =  [0.75       0.84745763 0.79661017 0.76271186 0.76271186]\n",
      "Mean Accuracy Score for SVC(kernel='linear')   =  0.7838983050847457 \n",
      "\n",
      "Accuracy Scores for DecisionTreeClassifier()  =  [0.8        0.76271186 0.66101695 0.69491525 0.77966102]\n",
      "Mean Accuracy Score for DecisionTreeClassifier()   =  0.7396610169491525 \n",
      "\n",
      "Accuracy Scores for RandomForestClassifier()  =  [0.83333333 0.93220339 0.77966102 0.76271186 0.79661017]\n",
      "Mean Accuracy Score for RandomForestClassifier()   =  0.8209039548022599 \n",
      "\n"
     ]
    }
   ],
   "source": [
    "def __cross_val__():\n",
    "    for model in models:\n",
    "        cross_val = cross_val_score(model,X, y, cv = 5)\n",
    "        mean_cross_val = sum(cross_val)/len(cross_val)\n",
    "        \n",
    "        print(\"Accuracy Scores for\", model , \" = \", cross_val)\n",
    "        print(\"Mean Accuracy Score for\", model , \"  = \", mean_cross_val, \"\\n\")\n",
    "__cross_val__()"
   ]
  },
  {
   "cell_type": "markdown",
   "id": "d955d0ea",
   "metadata": {},
   "source": [
    "## Using Best Model - Random Forest Classifier"
   ]
  },
  {
   "cell_type": "code",
   "execution_count": 25,
   "id": "c9b19e0a",
   "metadata": {},
   "outputs": [],
   "source": [
    "rfc = RandomForestClassifier()"
   ]
  },
  {
   "cell_type": "code",
   "execution_count": 26,
   "id": "37fb6eab",
   "metadata": {},
   "outputs": [
    {
     "data": {
      "text/plain": [
       "RandomForestClassifier()"
      ]
     },
     "execution_count": 26,
     "metadata": {},
     "output_type": "execute_result"
    }
   ],
   "source": [
    "# Train Model\n",
    "rfc.fit(X, y)"
   ]
  },
  {
   "cell_type": "markdown",
   "id": "20c2a3dc",
   "metadata": {},
   "source": [
    "### Model Evaluation"
   ]
  },
  {
   "cell_type": "code",
   "execution_count": 27,
   "id": "b55944cc",
   "metadata": {},
   "outputs": [
    {
     "name": "stdout",
     "output_type": "stream",
     "text": [
      "Accuracy Score =  100.0 %\n"
     ]
    }
   ],
   "source": [
    "# Accuracy Score\n",
    "print(\"Accuracy Score = \",np.round(rfc.score(X, y)* 100,3), \"%\")"
   ]
  },
  {
   "cell_type": "code",
   "execution_count": 28,
   "id": "ae5bd39a",
   "metadata": {},
   "outputs": [
    {
     "data": {
      "image/png": "[encoded data removed]",
      "text/plain": [
       "<Figure size 300x300 with 1 Axes>"
      ]
     },
     "metadata": {},
     "output_type": "display_data"
    }
   ],
   "source": [
    "## Confusion Matrix\n",
    "y_pred = rfc.predict(X)\n",
    "cm = confusion_matrix(y, y_pred)\n",
    "pt.figure(figsize = (3,3))\n",
    "sns.heatmap(cm, annot=True, square=True, cbar=False,  cmap=\"Blues\")\n",
    "pt.xlabel(\"Predicted Class\")\n",
    "pt.ylabel(\"True Class\")\n",
    "\n",
    "pt.show()"
   ]
  },
  {
   "cell_type": "markdown",
   "id": "7e489cae",
   "metadata": {},
   "source": [
    "0 is healthy and 1 is Sick.<br>\n",
    "The are 0 + 0 = 51 misclassifications."
   ]
  },
  {
   "cell_type": "markdown",
   "id": "4e1c22d7",
   "metadata": {},
   "source": [
    "## Conclusion"
   ]
  },
  {
   "cell_type": "markdown",
   "id": "6e358b21",
   "metadata": {},
   "source": [
    "**In conclusion, I developed a Machine Learning Model to Predict whether or not a person has Hypertension or not using Medical Conditions like Chest pain Type, Resting Blood Pressure, Fasting Blood Sugar, Resting Electrocardiographic results etc. and other features of a person like Age and Sex.**\n",
    "\n",
    "**I first explored the preprocessed data by removing missing values, transforming categorical features to numerical and lastly.**\n",
    "\n",
    "**Then, I visualized and the following are the trends I discovered**\n",
    "1. **The Males are more prone to Heart diseases than the females**\n",
    "2. **Patients with asympt (asymptomatic) chestpain are more prone to Heart diseases and patients with abnang (atypical angina) are less likely to have this attack.**\n",
    "3. **The abn (abnormal) Resting Electrocardiographic results is rare to find in most Patients...**\n",
    "4. **Patients with Normal thal are mostly safe from Heart attacks**\n",
    "5. **Average individuals from age 25-40 have higher chances of being affected by heart problems.**\n",
    "6. **Old patients from 55 downwards have higher chances of getting heart attacks...**\n",
    "\n",
    "**I scaled the non-categorical features to make all values be in the same range**\n",
    "\n",
    "**Then, I trained and evaluated several models like Logistic Regression, Supported Vector Classifier, Decision Tree Classifier, Random Forest Classifier using Cross Validation to obtain Average Accuracies of the different Models.** \n",
    "\n",
    "**Based on the Average Accuracy scores, I selected Random Forest Classifier as the best performing Model with an average Cross Val Score of 82.77 an accuracy of 100%.**\n",
    "**Finally, I plotted an Heatmap using the Seaborn Module to show the Confusion Matrix of the prredictions.**\n",
    "**The Confusion Matrix shows the following**\n",
    "1. **Of all 160 People that are Healthy;**\n",
    "    - **140 People we're classified as Healthy - True Positive**\n",
    "    - **0 were misclassified as Non-healthy - False Negative**\n",
    "2. **Of all 136 that are non Healthy;**\n",
    "    - **110 were misclassified as Healthy - False Positive**\n",
    "    - **0 were Classified as Non-healthy - True Negative**\n",
    "    \n",
    "This project can be used in Hospitals and People to  make them aware of their health status."
   ]
  },
  {
   "cell_type": "code",
   "execution_count": null,
   "id": "9aa378aa",
   "metadata": {},
   "outputs": [],
   "source": []
  }
 ],
 "metadata": {
  "kernelspec": {
   "display_name": "Python 3 (ipykernel)",
   "language": "python",
   "name": "python3"
  },
  "language_info": {
   "codemirror_mode": {
    "name": "ipython",
    "version": 3
   },
   "file_extension": ".py",
   "mimetype": "text/x-python",
   "name": "python",
   "nbconvert_exporter": "python",
   "pygments_lexer": "ipython3",
   "version": "3.9.13"
  }
 },
 "nbformat": 4,
 "nbformat_minor": 5
}
