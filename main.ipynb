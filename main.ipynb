{
 "cells": [
  {
   "cell_type": "code",
   "execution_count": 1,
   "id": "80259472",
   "metadata": {},
   "outputs": [],
   "source": [
    "# Import Dependencies\n",
    "\n",
    "import pandas as pd\n",
    "import numpy as np\n",
    "import seaborn as sns\n",
    "from matplotlib import pyplot as pt\n",
    "from sklearn.preprocessing import LabelEncoder\n",
    "from sklearn.tree import DecisionTreeClassifier\n",
    "from sklearn.model_selection import train_test_split\n",
    "from sklearn.metrics import *\n",
    "from sklearn.linear_model import LogisticRegression"
   ]
  },
  {
   "cell_type": "code",
   "execution_count": 2,
   "id": "7886bdc2",
   "metadata": {},
   "outputs": [
    {
     "data": {
      "text/html": [
       "<div>\n",
       "<style scoped>\n",
       "    .dataframe tbody tr th:only-of-type {\n",
       "        vertical-align: middle;\n",
       "    }\n",
       "\n",
       "    .dataframe tbody tr th {\n",
       "        vertical-align: top;\n",
       "    }\n",
       "\n",
       "    .dataframe thead th {\n",
       "        text-align: right;\n",
       "    }\n",
       "</style>\n",
       "<table border=\"1\" class=\"dataframe\">\n",
       "  <thead>\n",
       "    <tr style=\"text-align: right;\">\n",
       "      <th></th>\n",
       "      <th>age</th>\n",
       "      <th>sex</th>\n",
       "      <th>chestpain</th>\n",
       "      <th>trestbps</th>\n",
       "      <th>chol</th>\n",
       "      <th>fbs</th>\n",
       "      <th>restecg</th>\n",
       "      <th>thalach</th>\n",
       "      <th>exang</th>\n",
       "      <th>oldpeak</th>\n",
       "      <th>slope</th>\n",
       "      <th>v_colored</th>\n",
       "      <th>thal</th>\n",
       "      <th>health</th>\n",
       "      <th>X</th>\n",
       "    </tr>\n",
       "  </thead>\n",
       "  <tbody>\n",
       "    <tr>\n",
       "      <th>0</th>\n",
       "      <td>63.0</td>\n",
       "      <td>male</td>\n",
       "      <td>angina</td>\n",
       "      <td>145.0</td>\n",
       "      <td>233.0</td>\n",
       "      <td>true</td>\n",
       "      <td>hyp</td>\n",
       "      <td>150.0</td>\n",
       "      <td>fal</td>\n",
       "      <td>2.3</td>\n",
       "      <td>down</td>\n",
       "      <td>0.0</td>\n",
       "      <td>fix</td>\n",
       "      <td>buff</td>\n",
       "      <td>H</td>\n",
       "    </tr>\n",
       "    <tr>\n",
       "      <th>1</th>\n",
       "      <td>67.0</td>\n",
       "      <td>male</td>\n",
       "      <td>asympt</td>\n",
       "      <td>160.0</td>\n",
       "      <td>286.0</td>\n",
       "      <td>fal</td>\n",
       "      <td>hyp</td>\n",
       "      <td>108.0</td>\n",
       "      <td>true</td>\n",
       "      <td>1.5</td>\n",
       "      <td>flat</td>\n",
       "      <td>3.0</td>\n",
       "      <td>norm</td>\n",
       "      <td>sick</td>\n",
       "      <td>S2</td>\n",
       "    </tr>\n",
       "    <tr>\n",
       "      <th>2</th>\n",
       "      <td>67.0</td>\n",
       "      <td>male</td>\n",
       "      <td>asympt</td>\n",
       "      <td>120.0</td>\n",
       "      <td>229.0</td>\n",
       "      <td>fal</td>\n",
       "      <td>hyp</td>\n",
       "      <td>129.0</td>\n",
       "      <td>true</td>\n",
       "      <td>2.6</td>\n",
       "      <td>flat</td>\n",
       "      <td>2.0</td>\n",
       "      <td>rev</td>\n",
       "      <td>sick</td>\n",
       "      <td>S1</td>\n",
       "    </tr>\n",
       "    <tr>\n",
       "      <th>3</th>\n",
       "      <td>37.0</td>\n",
       "      <td>male</td>\n",
       "      <td>notang</td>\n",
       "      <td>130.0</td>\n",
       "      <td>250.0</td>\n",
       "      <td>fal</td>\n",
       "      <td>norm</td>\n",
       "      <td>187.0</td>\n",
       "      <td>fal</td>\n",
       "      <td>3.5</td>\n",
       "      <td>down</td>\n",
       "      <td>0.0</td>\n",
       "      <td>norm</td>\n",
       "      <td>buff</td>\n",
       "      <td>H</td>\n",
       "    </tr>\n",
       "    <tr>\n",
       "      <th>4</th>\n",
       "      <td>41.0</td>\n",
       "      <td>fem</td>\n",
       "      <td>abnang</td>\n",
       "      <td>130.0</td>\n",
       "      <td>204.0</td>\n",
       "      <td>fal</td>\n",
       "      <td>hyp</td>\n",
       "      <td>172.0</td>\n",
       "      <td>fal</td>\n",
       "      <td>1.4</td>\n",
       "      <td>up</td>\n",
       "      <td>0.0</td>\n",
       "      <td>norm</td>\n",
       "      <td>buff</td>\n",
       "      <td>H</td>\n",
       "    </tr>\n",
       "  </tbody>\n",
       "</table>\n",
       "</div>"
      ],
      "text/plain": [
       "    age   sex chestpain  trestbps   chol   fbs restecg  thalach exang  \\\n",
       "0  63.0  male    angina     145.0  233.0  true     hyp    150.0   fal   \n",
       "1  67.0  male    asympt     160.0  286.0   fal     hyp    108.0  true   \n",
       "2  67.0  male    asympt     120.0  229.0   fal     hyp    129.0  true   \n",
       "3  37.0  male    notang     130.0  250.0   fal    norm    187.0   fal   \n",
       "4  41.0   fem    abnang     130.0  204.0   fal     hyp    172.0   fal   \n",
       "\n",
       "   oldpeak slope v_colored  thal health   X  \n",
       "0      2.3  down       0.0   fix   buff   H  \n",
       "1      1.5  flat       3.0  norm   sick  S2  \n",
       "2      2.6  flat       2.0   rev   sick  S1  \n",
       "3      3.5  down       0.0  norm   buff   H  \n",
       "4      1.4    up       0.0  norm   buff   H  "
      ]
     },
     "execution_count": 2,
     "metadata": {},
     "output_type": "execute_result"
    }
   ],
   "source": [
    "# Load Data\n",
    "names = [\"age\", \"sex\", \"chestpain\", \"trestbps\", \"chol\", \"fbs\",\n",
    "         \"restecg\", \"thalach\", \"exang\", \"oldpeak\", \"slope\",\n",
    "        \"v_colored\",\"thal\", \"health\", \"X\"]\n",
    "heart_df = pd.read_csv(\"hypertension-dataset.csv\", names = names)\n",
    "heart_df.head()"
   ]
  },
  {
   "cell_type": "markdown",
   "id": "4802b1d1",
   "metadata": {},
   "source": [
    "### Attributes Explanation\n",
    "1. age: Age of Patient in years\n",
    "2. sex: Male or Female field\n",
    "3. chestpain: Chest Pain Type in full; values could be Typical angina (angina), atypical angina (abnang), non-anginal pain (notang) and asymptomatic (asympt)\n",
    "4. trestbps: Resting Blood Pressure in mmHg\n",
    "5. chol: Serun Cholestoral in mg/dl\n",
    "6. fbs: Fasting Blood Sugar > 120mg/dl\n",
    "7. restecg: Resting Electrocardiographic results; values could be Normal(norm),Abnormal (abn) and Hypertrophy (hyp)\n",
    "8. thalach: Maximum heart rate achieved\n",
    "9. exang: This is exercise induced angina; value could be True (true) or False(fal)\n",
    "10. oldpeak: This is depression induced by exercise relative to rest\n",
    "11. slope: The slope peak exercise ST segment; values could be upsloping (up), flat (flat) and downsloping (down).\n",
    "12. v_colored: Number of vessels (0-3) colored by fluorosopy\n",
    "13. thal\n",
    "14. health"
   ]
  },
  {
   "cell_type": "markdown",
   "id": "a702a7c9",
   "metadata": {},
   "source": [
    "## Exploratory Data Analysis"
   ]
  },
  {
   "cell_type": "code",
   "execution_count": 3,
   "id": "520d2ce0",
   "metadata": {},
   "outputs": [
    {
     "name": "stdout",
     "output_type": "stream",
     "text": [
      "Shape of df (303, 15)\n"
     ]
    }
   ],
   "source": [
    "# Get shape of Dataset\n",
    "\n",
    "print(\"Shape of df\", heart_df.shape)"
   ]
  },
  {
   "cell_type": "code",
   "execution_count": 4,
   "id": "0ff50f62",
   "metadata": {},
   "outputs": [
    {
     "name": "stdout",
     "output_type": "stream",
     "text": [
      "<class 'pandas.core.frame.DataFrame'>\n",
      "RangeIndex: 303 entries, 0 to 302\n",
      "Data columns (total 15 columns):\n",
      " #   Column     Non-Null Count  Dtype  \n",
      "---  ------     --------------  -----  \n",
      " 0   age        303 non-null    float64\n",
      " 1   sex        303 non-null    object \n",
      " 2   chestpain  303 non-null    object \n",
      " 3   trestbps   303 non-null    float64\n",
      " 4   chol       303 non-null    float64\n",
      " 5   fbs        303 non-null    object \n",
      " 6   restecg    303 non-null    object \n",
      " 7   thalach    303 non-null    float64\n",
      " 8   exang      303 non-null    object \n",
      " 9   oldpeak    303 non-null    float64\n",
      " 10  slope      303 non-null    object \n",
      " 11  v_colored  298 non-null    object \n",
      " 12  thal       301 non-null    object \n",
      " 13  health     303 non-null    object \n",
      " 14  X          303 non-null    object \n",
      "dtypes: float64(5), object(10)\n",
      "memory usage: 35.6+ KB\n"
     ]
    }
   ],
   "source": [
    "heart_df = heart_df.replace(\"?\", np.nan)\n",
    "\n",
    "# See informations about Non-null and Data-types of heart_df\n",
    "heart_df.info()"
   ]
  },
  {
   "cell_type": "code",
   "execution_count": 5,
   "id": "59b6bc05",
   "metadata": {},
   "outputs": [],
   "source": [
    "## Change v_colored to a numeric field\n",
    "heart_df[\"v_colored\"] = pd.to_numeric(heart_df[\"v_colored\"])"
   ]
  },
  {
   "cell_type": "code",
   "execution_count": 6,
   "id": "87f30ce6",
   "metadata": {},
   "outputs": [
    {
     "data": {
      "text/plain": [
       "age          0\n",
       "sex          0\n",
       "chestpain    0\n",
       "trestbps     0\n",
       "chol         0\n",
       "fbs          0\n",
       "restecg      0\n",
       "thalach      0\n",
       "exang        0\n",
       "oldpeak      0\n",
       "slope        0\n",
       "v_colored    5\n",
       "thal         2\n",
       "health       0\n",
       "X            0\n",
       "dtype: int64"
      ]
     },
     "execution_count": 6,
     "metadata": {},
     "output_type": "execute_result"
    }
   ],
   "source": [
    "# See informations about Null values\n",
    "\n",
    "heart_df.isnull().sum()"
   ]
  },
  {
   "cell_type": "code",
   "execution_count": 7,
   "id": "ddab9857",
   "metadata": {},
   "outputs": [
    {
     "name": "stdout",
     "output_type": "stream",
     "text": [
      "No null values and all dtypes are in place\n"
     ]
    }
   ],
   "source": [
    "# Drop null values\n",
    "heart_df.dropna(inplace = True)\n",
    "print(\"No null values and all dtypes are in place\")"
   ]
  },
  {
   "cell_type": "markdown",
   "id": "9ca62168",
   "metadata": {},
   "source": [
    "## Descriptive Analysis"
   ]
  },
  {
   "cell_type": "code",
   "execution_count": 8,
   "id": "592f2f61",
   "metadata": {},
   "outputs": [
    {
     "name": "stdout",
     "output_type": "stream",
     "text": [
      "Descriptive Stats\n"
     ]
    },
    {
     "data": {
      "text/html": [
       "<div>\n",
       "<style scoped>\n",
       "    .dataframe tbody tr th:only-of-type {\n",
       "        vertical-align: middle;\n",
       "    }\n",
       "\n",
       "    .dataframe tbody tr th {\n",
       "        vertical-align: top;\n",
       "    }\n",
       "\n",
       "    .dataframe thead th {\n",
       "        text-align: right;\n",
       "    }\n",
       "</style>\n",
       "<table border=\"1\" class=\"dataframe\">\n",
       "  <thead>\n",
       "    <tr style=\"text-align: right;\">\n",
       "      <th></th>\n",
       "      <th>age</th>\n",
       "      <th>trestbps</th>\n",
       "      <th>chol</th>\n",
       "      <th>thalach</th>\n",
       "      <th>oldpeak</th>\n",
       "      <th>v_colored</th>\n",
       "    </tr>\n",
       "  </thead>\n",
       "  <tbody>\n",
       "    <tr>\n",
       "      <th>count</th>\n",
       "      <td>296.000000</td>\n",
       "      <td>296.00000</td>\n",
       "      <td>296.000000</td>\n",
       "      <td>296.000000</td>\n",
       "      <td>296.000000</td>\n",
       "      <td>296.000000</td>\n",
       "    </tr>\n",
       "    <tr>\n",
       "      <th>mean</th>\n",
       "      <td>54.523649</td>\n",
       "      <td>131.60473</td>\n",
       "      <td>247.155405</td>\n",
       "      <td>149.560811</td>\n",
       "      <td>1.059122</td>\n",
       "      <td>0.679054</td>\n",
       "    </tr>\n",
       "    <tr>\n",
       "      <th>std</th>\n",
       "      <td>9.059471</td>\n",
       "      <td>17.72662</td>\n",
       "      <td>51.977011</td>\n",
       "      <td>22.970792</td>\n",
       "      <td>1.166474</td>\n",
       "      <td>0.939726</td>\n",
       "    </tr>\n",
       "    <tr>\n",
       "      <th>min</th>\n",
       "      <td>29.000000</td>\n",
       "      <td>94.00000</td>\n",
       "      <td>126.000000</td>\n",
       "      <td>71.000000</td>\n",
       "      <td>0.000000</td>\n",
       "      <td>0.000000</td>\n",
       "    </tr>\n",
       "    <tr>\n",
       "      <th>25%</th>\n",
       "      <td>48.000000</td>\n",
       "      <td>120.00000</td>\n",
       "      <td>211.000000</td>\n",
       "      <td>133.000000</td>\n",
       "      <td>0.000000</td>\n",
       "      <td>0.000000</td>\n",
       "    </tr>\n",
       "    <tr>\n",
       "      <th>50%</th>\n",
       "      <td>56.000000</td>\n",
       "      <td>130.00000</td>\n",
       "      <td>242.500000</td>\n",
       "      <td>152.500000</td>\n",
       "      <td>0.800000</td>\n",
       "      <td>0.000000</td>\n",
       "    </tr>\n",
       "    <tr>\n",
       "      <th>75%</th>\n",
       "      <td>61.000000</td>\n",
       "      <td>140.00000</td>\n",
       "      <td>275.250000</td>\n",
       "      <td>166.000000</td>\n",
       "      <td>1.650000</td>\n",
       "      <td>1.000000</td>\n",
       "    </tr>\n",
       "    <tr>\n",
       "      <th>max</th>\n",
       "      <td>77.000000</td>\n",
       "      <td>200.00000</td>\n",
       "      <td>564.000000</td>\n",
       "      <td>202.000000</td>\n",
       "      <td>6.200000</td>\n",
       "      <td>3.000000</td>\n",
       "    </tr>\n",
       "  </tbody>\n",
       "</table>\n",
       "</div>"
      ],
      "text/plain": [
       "              age   trestbps        chol     thalach     oldpeak   v_colored\n",
       "count  296.000000  296.00000  296.000000  296.000000  296.000000  296.000000\n",
       "mean    54.523649  131.60473  247.155405  149.560811    1.059122    0.679054\n",
       "std      9.059471   17.72662   51.977011   22.970792    1.166474    0.939726\n",
       "min     29.000000   94.00000  126.000000   71.000000    0.000000    0.000000\n",
       "25%     48.000000  120.00000  211.000000  133.000000    0.000000    0.000000\n",
       "50%     56.000000  130.00000  242.500000  152.500000    0.800000    0.000000\n",
       "75%     61.000000  140.00000  275.250000  166.000000    1.650000    1.000000\n",
       "max     77.000000  200.00000  564.000000  202.000000    6.200000    3.000000"
      ]
     },
     "execution_count": 8,
     "metadata": {},
     "output_type": "execute_result"
    }
   ],
   "source": [
    "print(\"Descriptive Stats\")\n",
    "heart_df.describe()"
   ]
  },
  {
   "cell_type": "markdown",
   "id": "97fb1480",
   "metadata": {},
   "source": [
    "## Visualization"
   ]
  },
  {
   "cell_type": "code",
   "execution_count": 9,
   "id": "a1de41e1",
   "metadata": {},
   "outputs": [
    {
     "name": "stderr",
     "output_type": "stream",
     "text": [
      "C:\\ProgramData\\Anaconda3\\lib\\site-packages\\seaborn\\_decorators.py:36: FutureWarning: Pass the following variable as a keyword arg: x. From version 0.12, the only valid positional argument will be `data`, and passing other arguments without an explicit keyword will result in an error or misinterpretation.\n",
      "  warnings.warn(\n"
     ]
    },
    {
     "data": {
      "text/plain": [
       "<AxesSubplot:xlabel='health', ylabel='count'>"
      ]
     },
     "execution_count": 9,
     "metadata": {},
     "output_type": "execute_result"
    },
    {
     "data": {
      "image/png": "[encoded data removed]",
      "text/plain": [
       "<Figure size 640x480 with 1 Axes>"
      ]
     },
     "metadata": {},
     "output_type": "display_data"
    }
   ],
   "source": [
    "## See Health Distribution\n",
    "sns.countplot(heart_df[\"health\"])"
   ]
  },
  {
   "cell_type": "code",
   "execution_count": 10,
   "id": "6252a600",
   "metadata": {},
   "outputs": [
    {
     "data": {
      "image/png": "[encoded data removed]",
      "text/plain": [
       "<Figure size 1500x1700 with 7 Axes>"
      ]
     },
     "metadata": {},
     "output_type": "display_data"
    }
   ],
   "source": [
    "## See Distribution of Categorical data's with respect tp health\n",
    "categories = [\"sex\", \"chestpain\", \"fbs\", \"restecg\", \"exang\",\"slope\", \"thal\"]\n",
    "pt.figure(figsize = (15,17))\n",
    "for category in enumerate(categories):\n",
    "    pt.subplot(4,3, category[0] + 1)\n",
    "    sns.countplot(x = category[1], hue = \"health\", data = heart_df)\n",
    "    "
   ]
  },
  {
   "cell_type": "markdown",
   "id": "79ba3d91",
   "metadata": {},
   "source": [
    "### Observations\n",
    "1. The Males are more prone to Heart attack than the females\n",
    "2. Patients with asympt (asymptomatic) chestpain are more prone to Heart attack and patients with abnang (atypical angina) are less likely to have this attack.\n",
    "3. The abn (abnormal) Resting Electrocardiographic results is rare to find in Patients...\n",
    "4. Patients with Normal thal are mostly safe from Heart arracks\n"
   ]
  },
  {
   "cell_type": "markdown",
   "id": "a8af6fa2",
   "metadata": {},
   "source": [
    "## Age Distribution with respect to health\n",
    "First, create a new column; convert the ages into ranges (0-10), (11-20), (21-30) and so on..."
   ]
  },
  {
   "cell_type": "code",
   "execution_count": 11,
   "id": "0d155d2e",
   "metadata": {},
   "outputs": [],
   "source": [
    "bin_ranges = [25, 30,35, 40,45, 50,55, 60,65, 70,75, 80]\n",
    "heart_df[\"Age range\"] = pd.cut(np.array(heart_df[\"age\"]), bins = bin_ranges)"
   ]
  },
  {
   "cell_type": "code",
   "execution_count": 12,
   "id": "dc552733",
   "metadata": {},
   "outputs": [
    {
     "data": {
      "text/plain": [
       "age           float64\n",
       "sex            object\n",
       "chestpain      object\n",
       "trestbps      float64\n",
       "chol          float64\n",
       "fbs            object\n",
       "restecg        object\n",
       "thalach       float64\n",
       "exang          object\n",
       "oldpeak       float64\n",
       "slope          object\n",
       "v_colored     float64\n",
       "thal           object\n",
       "health         object\n",
       "X              object\n",
       "Age range    category\n",
       "dtype: object"
      ]
     },
     "execution_count": 12,
     "metadata": {},
     "output_type": "execute_result"
    }
   ],
   "source": [
    "heart_df.dtypes"
   ]
  },
  {
   "cell_type": "code",
   "execution_count": 13,
   "id": "199aaf46",
   "metadata": {},
   "outputs": [
    {
     "data": {
      "text/plain": [
       "<AxesSubplot:xlabel='Age range', ylabel='count'>"
      ]
     },
     "execution_count": 13,
     "metadata": {},
     "output_type": "execute_result"
    },
    {
     "data": {
      "image/png": "[encoded data removed]",
      "text/plain": [
       "<Figure size 1500x700 with 1 Axes>"
      ]
     },
     "metadata": {},
     "output_type": "display_data"
    }
   ],
   "source": [
    "pt.figure(figsize=(15,7))\n",
    "sns.countplot(x = \"Age range\", hue=\"health\", data = heart_df)"
   ]
  },
  {
   "cell_type": "markdown",
   "id": "e5adc24c",
   "metadata": {},
   "source": [
    "## Observation\n",
    "1. Average individuals from age 25-40 have higher chances of being affected by heart problems.\n",
    "2. Old patients from 55 downwards have higher chances of getting heart attacks..."
   ]
  },
  {
   "cell_type": "code",
   "execution_count": 14,
   "id": "65ec1634",
   "metadata": {},
   "outputs": [
    {
     "data": {
      "text/plain": [
       "<AxesSubplot:>"
      ]
     },
     "execution_count": 14,
     "metadata": {},
     "output_type": "execute_result"
    },
    {
     "data": {
      "image/png": "[encoded data removed]",
      "text/plain": [
       "<Figure size 700x700 with 2 Axes>"
      ]
     },
     "metadata": {},
     "output_type": "display_data"
    }
   ],
   "source": [
    "pt.figure(figsize = (7,7))\n",
    "sns.heatmap(heart_df.corr(), annot = True, cmap=\"Blues\", square=True)"
   ]
  },
  {
   "cell_type": "markdown",
   "id": "ec04b857",
   "metadata": {},
   "source": [
    "Most attributes have weak or no correlations with each other\n",
    "- v_colored and age have the highest positive correlation (.36) while thalach and v_colored have the highest negative corrlation (-.35)"
   ]
  },
  {
   "cell_type": "code",
   "execution_count": 15,
   "id": "a5e227d7",
   "metadata": {},
   "outputs": [],
   "source": [
    "# Categorical Data - categories\n",
    "## Converting all Categorical Data to numeric using Label Encoder\n",
    "categories.append(\"health\")\n",
    "save_categories_code = []\n",
    "def map_category():\n",
    "    for category in categories:\n",
    "        encoder = LabelEncoder()\n",
    "        name = encoder.fit_transform(heart_df[category])\n",
    "        name_mapping ={index: label for index, label in enumerate(encoder.classes_)}\n",
    "        save_categories_code.append(name_mapping)\n",
    "        heart_df[category] = name\n",
    "map_category()"
   ]
  },
  {
   "cell_type": "code",
   "execution_count": 16,
   "id": "83d4e429",
   "metadata": {},
   "outputs": [
    {
     "data": {
      "text/html": [
       "<div>\n",
       "<style scoped>\n",
       "    .dataframe tbody tr th:only-of-type {\n",
       "        vertical-align: middle;\n",
       "    }\n",
       "\n",
       "    .dataframe tbody tr th {\n",
       "        vertical-align: top;\n",
       "    }\n",
       "\n",
       "    .dataframe thead th {\n",
       "        text-align: right;\n",
       "    }\n",
       "</style>\n",
       "<table border=\"1\" class=\"dataframe\">\n",
       "  <thead>\n",
       "    <tr style=\"text-align: right;\">\n",
       "      <th></th>\n",
       "      <th>age</th>\n",
       "      <th>sex</th>\n",
       "      <th>chestpain</th>\n",
       "      <th>trestbps</th>\n",
       "      <th>chol</th>\n",
       "      <th>fbs</th>\n",
       "      <th>restecg</th>\n",
       "      <th>thalach</th>\n",
       "      <th>exang</th>\n",
       "      <th>oldpeak</th>\n",
       "      <th>slope</th>\n",
       "      <th>v_colored</th>\n",
       "      <th>thal</th>\n",
       "      <th>health</th>\n",
       "      <th>X</th>\n",
       "      <th>Age range</th>\n",
       "    </tr>\n",
       "  </thead>\n",
       "  <tbody>\n",
       "    <tr>\n",
       "      <th>0</th>\n",
       "      <td>63.0</td>\n",
       "      <td>1</td>\n",
       "      <td>1</td>\n",
       "      <td>145.0</td>\n",
       "      <td>233.0</td>\n",
       "      <td>1</td>\n",
       "      <td>1</td>\n",
       "      <td>150.0</td>\n",
       "      <td>0</td>\n",
       "      <td>2.3</td>\n",
       "      <td>0</td>\n",
       "      <td>0.0</td>\n",
       "      <td>0</td>\n",
       "      <td>0</td>\n",
       "      <td>H</td>\n",
       "      <td>(60, 65]</td>\n",
       "    </tr>\n",
       "    <tr>\n",
       "      <th>1</th>\n",
       "      <td>67.0</td>\n",
       "      <td>1</td>\n",
       "      <td>2</td>\n",
       "      <td>160.0</td>\n",
       "      <td>286.0</td>\n",
       "      <td>0</td>\n",
       "      <td>1</td>\n",
       "      <td>108.0</td>\n",
       "      <td>1</td>\n",
       "      <td>1.5</td>\n",
       "      <td>1</td>\n",
       "      <td>3.0</td>\n",
       "      <td>1</td>\n",
       "      <td>1</td>\n",
       "      <td>S2</td>\n",
       "      <td>(65, 70]</td>\n",
       "    </tr>\n",
       "    <tr>\n",
       "      <th>2</th>\n",
       "      <td>67.0</td>\n",
       "      <td>1</td>\n",
       "      <td>2</td>\n",
       "      <td>120.0</td>\n",
       "      <td>229.0</td>\n",
       "      <td>0</td>\n",
       "      <td>1</td>\n",
       "      <td>129.0</td>\n",
       "      <td>1</td>\n",
       "      <td>2.6</td>\n",
       "      <td>1</td>\n",
       "      <td>2.0</td>\n",
       "      <td>2</td>\n",
       "      <td>1</td>\n",
       "      <td>S1</td>\n",
       "      <td>(65, 70]</td>\n",
       "    </tr>\n",
       "    <tr>\n",
       "      <th>3</th>\n",
       "      <td>37.0</td>\n",
       "      <td>1</td>\n",
       "      <td>3</td>\n",
       "      <td>130.0</td>\n",
       "      <td>250.0</td>\n",
       "      <td>0</td>\n",
       "      <td>2</td>\n",
       "      <td>187.0</td>\n",
       "      <td>0</td>\n",
       "      <td>3.5</td>\n",
       "      <td>0</td>\n",
       "      <td>0.0</td>\n",
       "      <td>1</td>\n",
       "      <td>0</td>\n",
       "      <td>H</td>\n",
       "      <td>(35, 40]</td>\n",
       "    </tr>\n",
       "    <tr>\n",
       "      <th>4</th>\n",
       "      <td>41.0</td>\n",
       "      <td>0</td>\n",
       "      <td>0</td>\n",
       "      <td>130.0</td>\n",
       "      <td>204.0</td>\n",
       "      <td>0</td>\n",
       "      <td>1</td>\n",
       "      <td>172.0</td>\n",
       "      <td>0</td>\n",
       "      <td>1.4</td>\n",
       "      <td>2</td>\n",
       "      <td>0.0</td>\n",
       "      <td>1</td>\n",
       "      <td>0</td>\n",
       "      <td>H</td>\n",
       "      <td>(40, 45]</td>\n",
       "    </tr>\n",
       "  </tbody>\n",
       "</table>\n",
       "</div>"
      ],
      "text/plain": [
       "    age  sex  chestpain  trestbps   chol  fbs  restecg  thalach  exang  \\\n",
       "0  63.0    1          1     145.0  233.0    1        1    150.0      0   \n",
       "1  67.0    1          2     160.0  286.0    0        1    108.0      1   \n",
       "2  67.0    1          2     120.0  229.0    0        1    129.0      1   \n",
       "3  37.0    1          3     130.0  250.0    0        2    187.0      0   \n",
       "4  41.0    0          0     130.0  204.0    0        1    172.0      0   \n",
       "\n",
       "   oldpeak  slope  v_colored  thal  health   X Age range  \n",
       "0      2.3      0        0.0     0       0   H  (60, 65]  \n",
       "1      1.5      1        3.0     1       1  S2  (65, 70]  \n",
       "2      2.6      1        2.0     2       1  S1  (65, 70]  \n",
       "3      3.5      0        0.0     1       0   H  (35, 40]  \n",
       "4      1.4      2        0.0     1       0   H  (40, 45]  "
      ]
     },
     "execution_count": 16,
     "metadata": {},
     "output_type": "execute_result"
    }
   ],
   "source": [
    "heart_df.head()"
   ]
  },
  {
   "cell_type": "markdown",
   "id": "9a64593c",
   "metadata": {},
   "source": [
    "## Modelling"
   ]
  },
  {
   "cell_type": "markdown",
   "id": "2b1be7a5",
   "metadata": {},
   "source": [
    "### Split Dataset into Train and Test set"
   ]
  },
  {
   "cell_type": "code",
   "execution_count": 17,
   "id": "4614baed",
   "metadata": {},
   "outputs": [],
   "source": [
    "X = heart_df.drop([\"health\", \"X\", \"Age range\", \"trestbps\"], axis = 1)\n",
    "y = heart_df.health\n",
    "\n",
    "X_train, X_test, y_train, y_test = train_test_split(X.values, y.values, test_size = .3, random_state = 3)"
   ]
  },
  {
   "cell_type": "markdown",
   "id": "8aec7def",
   "metadata": {},
   "source": [
    "### Decision Trees"
   ]
  },
  {
   "cell_type": "markdown",
   "id": "12dce262",
   "metadata": {},
   "source": [
    "***Model Training***"
   ]
  },
  {
   "cell_type": "code",
   "execution_count": 18,
   "id": "561bc934",
   "metadata": {},
   "outputs": [
    {
     "data": {
      "text/plain": [
       "DecisionTreeClassifier()"
      ]
     },
     "execution_count": 18,
     "metadata": {},
     "output_type": "execute_result"
    }
   ],
   "source": [
    "dtc = DecisionTreeClassifier()\n",
    "dtc.fit(X_train, y_train)"
   ]
  },
  {
   "cell_type": "markdown",
   "id": "c3096f11",
   "metadata": {},
   "source": [
    "### Model Evaluation"
   ]
  },
  {
   "cell_type": "code",
   "execution_count": 19,
   "id": "b519cd7c",
   "metadata": {},
   "outputs": [],
   "source": [
    "def show_metrics(data, predict):\n",
    "    pt.figure(figsize = (3,3))\n",
    "    precision_dt = precision_score(data, predict)\n",
    "    recall_dt = recall_score(data, predict)\n",
    "    f1_score_dt = f1_score(data, predict)\n",
    "    conf_matrix_dt = confusion_matrix(data, predict)\n",
    "    \n",
    "    print(\"Accuracy Score = \", np.round(precision_dt, 2) * 100, \"%\")\n",
    "    print(\"Precision Score = \",np.round(precision_dt, 2) * 100, \"%\")\n",
    "    print(\"Recall Score = \",np.round(recall_dt, 2) * 100, \"%\")\n",
    "    print(\"F1 Score = \",np.round(f1_score_dt, 2) * 100, \"%\")\n",
    "    sns.heatmap(conf_matrix_dt, annot=True, square = True, cmap=\"Blues\")"
   ]
  },
  {
   "cell_type": "code",
   "execution_count": 20,
   "id": "0b92c725",
   "metadata": {},
   "outputs": [],
   "source": [
    "train_prediction_dt = dtc.predict(X_train)\n",
    "test_prediction_dt = dtc.predict(X_test)"
   ]
  },
  {
   "cell_type": "markdown",
   "id": "3a88bf2e",
   "metadata": {},
   "source": [
    "***Decision Trees***"
   ]
  },
  {
   "cell_type": "code",
   "execution_count": 21,
   "id": "d02a491e",
   "metadata": {},
   "outputs": [
    {
     "name": "stdout",
     "output_type": "stream",
     "text": [
      "Accuracy Score =  100.0 %\n",
      "Precision Score =  100.0 %\n",
      "Recall Score =  100.0 %\n",
      "F1 Score =  100.0 %\n"
     ]
    },
    {
     "data": {
      "image/png": "[encoded data removed]",
      "text/plain": [
       "<Figure size 300x300 with 2 Axes>"
      ]
     },
     "metadata": {},
     "output_type": "display_data"
    }
   ],
   "source": [
    "# Classification metrics for Training dataset - Decision Trees\n",
    "\n",
    "show_metrics(y_train, train_prediction_dt)"
   ]
  },
  {
   "cell_type": "code",
   "execution_count": 22,
   "id": "c1260b1a",
   "metadata": {},
   "outputs": [
    {
     "name": "stdout",
     "output_type": "stream",
     "text": [
      "Accuracy Score =  76.0 %\n",
      "Precision Score =  76.0 %\n",
      "Recall Score =  61.0 %\n",
      "F1 Score =  68.0 %\n"
     ]
    },
    {
     "data": {
      "image/png": "[encoded data removed]",
      "text/plain": [
       "<Figure size 300x300 with 2 Axes>"
      ]
     },
     "metadata": {},
     "output_type": "display_data"
    }
   ],
   "source": [
    "# Classification metrics for Test dataset - Decision Trees\n",
    "\n",
    "show_metrics(y_test, test_prediction_dt)"
   ]
  },
  {
   "cell_type": "markdown",
   "id": "90eee07e",
   "metadata": {},
   "source": [
    "**In this Task(test dataset), the critical prediction is the False Negative (15)** <br>\n",
    " **Explanation of the confusion Matrix:**<br>\n",
    "1. **43 is the true positive - Patient doesn't have heart attack, and the model is predicting that they don't have.**<br>\n",
    "2. **10 is the false positive - Patient doesn't have heart attack, but the model is predicting that they have; this is still better as the risk won't pose any effects to the patient...its better if we can minimize this error though**\n",
    "3. **15 is the false negative - Patient has heart attack, but model says patient doesn't... this is very risky as patient may die due to lack of immediate medical attention** <br>\n",
    " Recall score is used when False Negative is critical, but our Recall score has an average score...hence, we see if there's a better model."
   ]
  },
  {
   "cell_type": "markdown",
   "id": "2b64e427",
   "metadata": {},
   "source": [
    "***Logistic Regression***"
   ]
  },
  {
   "cell_type": "markdown",
   "id": "0016489a",
   "metadata": {},
   "source": [
    "***Model Training***"
   ]
  },
  {
   "cell_type": "code",
   "execution_count": 23,
   "id": "46d02569",
   "metadata": {},
   "outputs": [
    {
     "data": {
      "text/plain": [
       "LogisticRegression(max_iter=400)"
      ]
     },
     "execution_count": 23,
     "metadata": {},
     "output_type": "execute_result"
    }
   ],
   "source": [
    "logistic = LogisticRegression(max_iter=400)\n",
    "logistic.fit(X_train, y_train)"
   ]
  },
  {
   "cell_type": "markdown",
   "id": "298e2589",
   "metadata": {},
   "source": [
    "### Model Evaluation"
   ]
  },
  {
   "cell_type": "code",
   "execution_count": 24,
   "id": "d8a6e65d",
   "metadata": {},
   "outputs": [],
   "source": [
    "train_prediction_lr = logistic.predict(X_train)\n",
    "test_prediction_lr = logistic.predict(X_test)"
   ]
  },
  {
   "cell_type": "code",
   "execution_count": 25,
   "id": "2f3729db",
   "metadata": {},
   "outputs": [
    {
     "name": "stdout",
     "output_type": "stream",
     "text": [
      "Accuracy Score =  86.0 %\n",
      "Precision Score =  86.0 %\n",
      "Recall Score =  80.0 %\n",
      "F1 Score =  83.0 %\n"
     ]
    },
    {
     "data": {
      "image/png": "[encoded data removed]",
      "text/plain": [
       "<Figure size 300x300 with 2 Axes>"
      ]
     },
     "metadata": {},
     "output_type": "display_data"
    }
   ],
   "source": [
    "show_metrics(y_train, train_prediction_lr)"
   ]
  },
  {
   "cell_type": "code",
   "execution_count": 26,
   "id": "6ac7302d",
   "metadata": {},
   "outputs": [
    {
     "name": "stdout",
     "output_type": "stream",
     "text": [
      "Accuracy Score =  82.0 %\n",
      "Precision Score =  82.0 %\n",
      "Recall Score =  75.0 %\n",
      "F1 Score =  78.0 %\n"
     ]
    },
    {
     "data": {
      "image/png": "[encoded data removed]",
      "text/plain": [
       "<Figure size 300x300 with 2 Axes>"
      ]
     },
     "metadata": {},
     "output_type": "display_data"
    }
   ],
   "source": [
    "# Classification metrics for Train dataset\n",
    "\n",
    "show_metrics(y_test, test_prediction_lr)"
   ]
  },
  {
   "cell_type": "markdown",
   "id": "dbe21151",
   "metadata": {},
   "source": [
    "***In Logistic Regression; the Recall score is better; but can still be tuned using Hyperparameters.***"
   ]
  },
  {
   "cell_type": "code",
   "execution_count": null,
   "id": "20d2b8bb",
   "metadata": {},
   "outputs": [],
   "source": []
  }
 ],
 "metadata": {
  "kernelspec": {
   "display_name": "Python 3 (ipykernel)",
   "language": "python",
   "name": "python3"
  },
  "language_info": {
   "codemirror_mode": {
    "name": "ipython",
    "version": 3
   },
   "file_extension": ".py",
   "mimetype": "text/x-python",
   "name": "python",
   "nbconvert_exporter": "python",
   "pygments_lexer": "ipython3",
   "version": "3.9.13"
  }
 },
 "nbformat": 4,
 "nbformat_minor": 5
}
